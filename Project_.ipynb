{
  "nbformat": 4,
  "nbformat_minor": 0,
  "metadata": {
    "colab": {
      "name": "Project .ipynb",
      "provenance": [],
      "authorship_tag": "ABX9TyPI6RGOa47wzFbIwQGDrjds",
      "include_colab_link": true
    },
    "kernelspec": {
      "name": "python3",
      "display_name": "Python 3"
    }
  },
  "cells": [
    {
      "cell_type": "markdown",
      "metadata": {
        "id": "view-in-github",
        "colab_type": "text"
      },
      "source": [
        "<a href=\"https://colab.research.google.com/github/tanpharamut/KKU_data_mining/blob/master/Project_.ipynb\" target=\"_parent\"><img src=\"https://colab.research.google.com/assets/colab-badge.svg\" alt=\"Open In Colab\"/></a>"
      ]
    },
    {
      "cell_type": "code",
      "metadata": {
        "id": "6IV452ZQ8wgL"
      },
      "source": [
        "import numpy as np\n",
        "import pandas as pd"
      ],
      "execution_count": 6,
      "outputs": []
    },
    {
      "cell_type": "code",
      "metadata": {
        "id": "jZA6_dyv9fgq",
        "outputId": "0e165019-c54d-4d17-88f1-69e0e31010b7",
        "colab": {
          "base_uri": "https://localhost:8080/"
        }
      },
      "source": [
        "from google.colab import drive\n",
        "drive.mount('/content/drive')"
      ],
      "execution_count": 7,
      "outputs": [
        {
          "output_type": "stream",
          "text": [
            "Drive already mounted at /content/drive; to attempt to forcibly remount, call drive.mount(\"/content/drive\", force_remount=True).\n"
          ],
          "name": "stdout"
        }
      ]
    },
    {
      "cell_type": "code",
      "metadata": {
        "id": "Aff59k8t9j6a"
      },
      "source": [
        "path = '/content/drive/My Drive/DWDM_material'"
      ],
      "execution_count": 8,
      "outputs": []
    },
    {
      "cell_type": "code",
      "metadata": {
        "id": "h-G2e4Po91sY"
      },
      "source": [
        "import os"
      ],
      "execution_count": 9,
      "outputs": []
    },
    {
      "cell_type": "code",
      "metadata": {
        "id": "EVyuqIP798h5"
      },
      "source": [
        "RM = os.path.join(path,'Recommendation System.csv')"
      ],
      "execution_count": 10,
      "outputs": []
    },
    {
      "cell_type": "code",
      "metadata": {
        "id": "t9K6uUXV-gB3"
      },
      "source": [
        "RM_Table = pd.read_csv(RM)"
      ],
      "execution_count": 11,
      "outputs": []
    },
    {
      "cell_type": "code",
      "metadata": {
        "id": "RhXNAeSs-qqd",
        "outputId": "ace0c68f-53a0-4499-a786-b28488d51c74",
        "colab": {
          "base_uri": "https://localhost:8080/",
          "height": 399
        }
      },
      "source": [
        "RM_Table "
      ],
      "execution_count": 12,
      "outputs": [
        {
          "output_type": "execute_result",
          "data": {
            "text/html": [
              "<div>\n",
              "<style scoped>\n",
              "    .dataframe tbody tr th:only-of-type {\n",
              "        vertical-align: middle;\n",
              "    }\n",
              "\n",
              "    .dataframe tbody tr th {\n",
              "        vertical-align: top;\n",
              "    }\n",
              "\n",
              "    .dataframe thead th {\n",
              "        text-align: right;\n",
              "    }\n",
              "</style>\n",
              "<table border=\"1\" class=\"dataframe\">\n",
              "  <thead>\n",
              "    <tr style=\"text-align: right;\">\n",
              "      <th></th>\n",
              "      <th>0</th>\n",
              "      <th>50</th>\n",
              "      <th>5</th>\n",
              "      <th>881250949</th>\n",
              "    </tr>\n",
              "  </thead>\n",
              "  <tbody>\n",
              "    <tr>\n",
              "      <th>0</th>\n",
              "      <td>0</td>\n",
              "      <td>172</td>\n",
              "      <td>5</td>\n",
              "      <td>881250949</td>\n",
              "    </tr>\n",
              "    <tr>\n",
              "      <th>1</th>\n",
              "      <td>0</td>\n",
              "      <td>133</td>\n",
              "      <td>1</td>\n",
              "      <td>881250949</td>\n",
              "    </tr>\n",
              "    <tr>\n",
              "      <th>2</th>\n",
              "      <td>196</td>\n",
              "      <td>242</td>\n",
              "      <td>3</td>\n",
              "      <td>881250949</td>\n",
              "    </tr>\n",
              "    <tr>\n",
              "      <th>3</th>\n",
              "      <td>186</td>\n",
              "      <td>302</td>\n",
              "      <td>3</td>\n",
              "      <td>891717742</td>\n",
              "    </tr>\n",
              "    <tr>\n",
              "      <th>4</th>\n",
              "      <td>22</td>\n",
              "      <td>377</td>\n",
              "      <td>1</td>\n",
              "      <td>878887116</td>\n",
              "    </tr>\n",
              "    <tr>\n",
              "      <th>...</th>\n",
              "      <td>...</td>\n",
              "      <td>...</td>\n",
              "      <td>...</td>\n",
              "      <td>...</td>\n",
              "    </tr>\n",
              "    <tr>\n",
              "      <th>99997</th>\n",
              "      <td>880</td>\n",
              "      <td>476</td>\n",
              "      <td>3</td>\n",
              "      <td>880175444</td>\n",
              "    </tr>\n",
              "    <tr>\n",
              "      <th>99998</th>\n",
              "      <td>716</td>\n",
              "      <td>204</td>\n",
              "      <td>5</td>\n",
              "      <td>879795543</td>\n",
              "    </tr>\n",
              "    <tr>\n",
              "      <th>99999</th>\n",
              "      <td>276</td>\n",
              "      <td>1090</td>\n",
              "      <td>1</td>\n",
              "      <td>874795795</td>\n",
              "    </tr>\n",
              "    <tr>\n",
              "      <th>100000</th>\n",
              "      <td>13</td>\n",
              "      <td>225</td>\n",
              "      <td>2</td>\n",
              "      <td>882399156</td>\n",
              "    </tr>\n",
              "    <tr>\n",
              "      <th>100001</th>\n",
              "      <td>12</td>\n",
              "      <td>203</td>\n",
              "      <td>3</td>\n",
              "      <td>879959583</td>\n",
              "    </tr>\n",
              "  </tbody>\n",
              "</table>\n",
              "<p>100002 rows × 4 columns</p>\n",
              "</div>"
            ],
            "text/plain": [
              "          0    50  5  881250949\n",
              "0         0   172  5  881250949\n",
              "1         0   133  1  881250949\n",
              "2       196   242  3  881250949\n",
              "3       186   302  3  891717742\n",
              "4        22   377  1  878887116\n",
              "...     ...   ... ..        ...\n",
              "99997   880   476  3  880175444\n",
              "99998   716   204  5  879795543\n",
              "99999   276  1090  1  874795795\n",
              "100000   13   225  2  882399156\n",
              "100001   12   203  3  879959583\n",
              "\n",
              "[100002 rows x 4 columns]"
            ]
          },
          "metadata": {
            "tags": []
          },
          "execution_count": 12
        }
      ]
    },
    {
      "cell_type": "code",
      "metadata": {
        "id": "u91nxOCB-r1v"
      },
      "source": [
        "RM_Table .columns = (['user_id','item_id',\"rating\",\"timestamp\"])"
      ],
      "execution_count": 13,
      "outputs": []
    },
    {
      "cell_type": "code",
      "metadata": {
        "id": "NUnVo5Hf-yL2",
        "outputId": "8a497aec-eaed-4508-a0f5-e47b5eb755e2",
        "colab": {
          "base_uri": "https://localhost:8080/",
          "height": 194
        }
      },
      "source": [
        "RM_Table.head()"
      ],
      "execution_count": 14,
      "outputs": [
        {
          "output_type": "execute_result",
          "data": {
            "text/html": [
              "<div>\n",
              "<style scoped>\n",
              "    .dataframe tbody tr th:only-of-type {\n",
              "        vertical-align: middle;\n",
              "    }\n",
              "\n",
              "    .dataframe tbody tr th {\n",
              "        vertical-align: top;\n",
              "    }\n",
              "\n",
              "    .dataframe thead th {\n",
              "        text-align: right;\n",
              "    }\n",
              "</style>\n",
              "<table border=\"1\" class=\"dataframe\">\n",
              "  <thead>\n",
              "    <tr style=\"text-align: right;\">\n",
              "      <th></th>\n",
              "      <th>user_id</th>\n",
              "      <th>item_id</th>\n",
              "      <th>rating</th>\n",
              "      <th>timestamp</th>\n",
              "    </tr>\n",
              "  </thead>\n",
              "  <tbody>\n",
              "    <tr>\n",
              "      <th>0</th>\n",
              "      <td>0</td>\n",
              "      <td>172</td>\n",
              "      <td>5</td>\n",
              "      <td>881250949</td>\n",
              "    </tr>\n",
              "    <tr>\n",
              "      <th>1</th>\n",
              "      <td>0</td>\n",
              "      <td>133</td>\n",
              "      <td>1</td>\n",
              "      <td>881250949</td>\n",
              "    </tr>\n",
              "    <tr>\n",
              "      <th>2</th>\n",
              "      <td>196</td>\n",
              "      <td>242</td>\n",
              "      <td>3</td>\n",
              "      <td>881250949</td>\n",
              "    </tr>\n",
              "    <tr>\n",
              "      <th>3</th>\n",
              "      <td>186</td>\n",
              "      <td>302</td>\n",
              "      <td>3</td>\n",
              "      <td>891717742</td>\n",
              "    </tr>\n",
              "    <tr>\n",
              "      <th>4</th>\n",
              "      <td>22</td>\n",
              "      <td>377</td>\n",
              "      <td>1</td>\n",
              "      <td>878887116</td>\n",
              "    </tr>\n",
              "  </tbody>\n",
              "</table>\n",
              "</div>"
            ],
            "text/plain": [
              "   user_id  item_id  rating  timestamp\n",
              "0        0      172       5  881250949\n",
              "1        0      133       1  881250949\n",
              "2      196      242       3  881250949\n",
              "3      186      302       3  891717742\n",
              "4       22      377       1  878887116"
            ]
          },
          "metadata": {
            "tags": []
          },
          "execution_count": 14
        }
      ]
    },
    {
      "cell_type": "code",
      "metadata": {
        "id": "mKvL9pzf-2yP"
      },
      "source": [
        "Movie = os.path.join(path,'Movie_Id_Titles')"
      ],
      "execution_count": 15,
      "outputs": []
    },
    {
      "cell_type": "code",
      "metadata": {
        "id": "8LZ3g3YN_Cbq",
        "outputId": "3b3167e4-85f0-4d7a-cd20-e44b5b15b048",
        "colab": {
          "base_uri": "https://localhost:8080/",
          "height": 399
        }
      },
      "source": [
        "Movie_Table = pd.read_csv(Movie)\n",
        "Movie_Table"
      ],
      "execution_count": 16,
      "outputs": [
        {
          "output_type": "execute_result",
          "data": {
            "text/html": [
              "<div>\n",
              "<style scoped>\n",
              "    .dataframe tbody tr th:only-of-type {\n",
              "        vertical-align: middle;\n",
              "    }\n",
              "\n",
              "    .dataframe tbody tr th {\n",
              "        vertical-align: top;\n",
              "    }\n",
              "\n",
              "    .dataframe thead th {\n",
              "        text-align: right;\n",
              "    }\n",
              "</style>\n",
              "<table border=\"1\" class=\"dataframe\">\n",
              "  <thead>\n",
              "    <tr style=\"text-align: right;\">\n",
              "      <th></th>\n",
              "      <th>item_id</th>\n",
              "      <th>title</th>\n",
              "    </tr>\n",
              "  </thead>\n",
              "  <tbody>\n",
              "    <tr>\n",
              "      <th>0</th>\n",
              "      <td>1</td>\n",
              "      <td>Toy Story (1995)</td>\n",
              "    </tr>\n",
              "    <tr>\n",
              "      <th>1</th>\n",
              "      <td>2</td>\n",
              "      <td>GoldenEye (1995)</td>\n",
              "    </tr>\n",
              "    <tr>\n",
              "      <th>2</th>\n",
              "      <td>3</td>\n",
              "      <td>Four Rooms (1995)</td>\n",
              "    </tr>\n",
              "    <tr>\n",
              "      <th>3</th>\n",
              "      <td>4</td>\n",
              "      <td>Get Shorty (1995)</td>\n",
              "    </tr>\n",
              "    <tr>\n",
              "      <th>4</th>\n",
              "      <td>5</td>\n",
              "      <td>Copycat (1995)</td>\n",
              "    </tr>\n",
              "    <tr>\n",
              "      <th>...</th>\n",
              "      <td>...</td>\n",
              "      <td>...</td>\n",
              "    </tr>\n",
              "    <tr>\n",
              "      <th>1677</th>\n",
              "      <td>1678</td>\n",
              "      <td>Mat' i syn (1997)</td>\n",
              "    </tr>\n",
              "    <tr>\n",
              "      <th>1678</th>\n",
              "      <td>1679</td>\n",
              "      <td>B. Monkey (1998)</td>\n",
              "    </tr>\n",
              "    <tr>\n",
              "      <th>1679</th>\n",
              "      <td>1680</td>\n",
              "      <td>Sliding Doors (1998)</td>\n",
              "    </tr>\n",
              "    <tr>\n",
              "      <th>1680</th>\n",
              "      <td>1681</td>\n",
              "      <td>You So Crazy (1994)</td>\n",
              "    </tr>\n",
              "    <tr>\n",
              "      <th>1681</th>\n",
              "      <td>1682</td>\n",
              "      <td>Scream of Stone (Schrei aus Stein) (1991)</td>\n",
              "    </tr>\n",
              "  </tbody>\n",
              "</table>\n",
              "<p>1682 rows × 2 columns</p>\n",
              "</div>"
            ],
            "text/plain": [
              "      item_id                                      title\n",
              "0           1                           Toy Story (1995)\n",
              "1           2                           GoldenEye (1995)\n",
              "2           3                          Four Rooms (1995)\n",
              "3           4                          Get Shorty (1995)\n",
              "4           5                             Copycat (1995)\n",
              "...       ...                                        ...\n",
              "1677     1678                          Mat' i syn (1997)\n",
              "1678     1679                           B. Monkey (1998)\n",
              "1679     1680                       Sliding Doors (1998)\n",
              "1680     1681                        You So Crazy (1994)\n",
              "1681     1682  Scream of Stone (Schrei aus Stein) (1991)\n",
              "\n",
              "[1682 rows x 2 columns]"
            ]
          },
          "metadata": {
            "tags": []
          },
          "execution_count": 16
        }
      ]
    },
    {
      "cell_type": "code",
      "metadata": {
        "id": "vP862ht8_Mkp",
        "outputId": "b3360d5e-17a5-492d-a8f8-661e2440f45b",
        "colab": {
          "base_uri": "https://localhost:8080/",
          "height": 399
        }
      },
      "source": [
        "df = pd.merge(RM_Table,Movie_Table,on='item_id')\n",
        "df"
      ],
      "execution_count": 17,
      "outputs": [
        {
          "output_type": "execute_result",
          "data": {
            "text/html": [
              "<div>\n",
              "<style scoped>\n",
              "    .dataframe tbody tr th:only-of-type {\n",
              "        vertical-align: middle;\n",
              "    }\n",
              "\n",
              "    .dataframe tbody tr th {\n",
              "        vertical-align: top;\n",
              "    }\n",
              "\n",
              "    .dataframe thead th {\n",
              "        text-align: right;\n",
              "    }\n",
              "</style>\n",
              "<table border=\"1\" class=\"dataframe\">\n",
              "  <thead>\n",
              "    <tr style=\"text-align: right;\">\n",
              "      <th></th>\n",
              "      <th>user_id</th>\n",
              "      <th>item_id</th>\n",
              "      <th>rating</th>\n",
              "      <th>timestamp</th>\n",
              "      <th>title</th>\n",
              "    </tr>\n",
              "  </thead>\n",
              "  <tbody>\n",
              "    <tr>\n",
              "      <th>0</th>\n",
              "      <td>0</td>\n",
              "      <td>172</td>\n",
              "      <td>5</td>\n",
              "      <td>881250949</td>\n",
              "      <td>Empire Strikes Back, The (1980)</td>\n",
              "    </tr>\n",
              "    <tr>\n",
              "      <th>1</th>\n",
              "      <td>213</td>\n",
              "      <td>172</td>\n",
              "      <td>5</td>\n",
              "      <td>878955442</td>\n",
              "      <td>Empire Strikes Back, The (1980)</td>\n",
              "    </tr>\n",
              "    <tr>\n",
              "      <th>2</th>\n",
              "      <td>92</td>\n",
              "      <td>172</td>\n",
              "      <td>4</td>\n",
              "      <td>875653271</td>\n",
              "      <td>Empire Strikes Back, The (1980)</td>\n",
              "    </tr>\n",
              "    <tr>\n",
              "      <th>3</th>\n",
              "      <td>77</td>\n",
              "      <td>172</td>\n",
              "      <td>3</td>\n",
              "      <td>884752562</td>\n",
              "      <td>Empire Strikes Back, The (1980)</td>\n",
              "    </tr>\n",
              "    <tr>\n",
              "      <th>4</th>\n",
              "      <td>194</td>\n",
              "      <td>172</td>\n",
              "      <td>3</td>\n",
              "      <td>879521474</td>\n",
              "      <td>Empire Strikes Back, The (1980)</td>\n",
              "    </tr>\n",
              "    <tr>\n",
              "      <th>...</th>\n",
              "      <td>...</td>\n",
              "      <td>...</td>\n",
              "      <td>...</td>\n",
              "      <td>...</td>\n",
              "      <td>...</td>\n",
              "    </tr>\n",
              "    <tr>\n",
              "      <th>99997</th>\n",
              "      <td>840</td>\n",
              "      <td>1674</td>\n",
              "      <td>4</td>\n",
              "      <td>891211682</td>\n",
              "      <td>Mamma Roma (1962)</td>\n",
              "    </tr>\n",
              "    <tr>\n",
              "      <th>99998</th>\n",
              "      <td>655</td>\n",
              "      <td>1640</td>\n",
              "      <td>3</td>\n",
              "      <td>888474646</td>\n",
              "      <td>Eighth Day, The (1996)</td>\n",
              "    </tr>\n",
              "    <tr>\n",
              "      <th>99999</th>\n",
              "      <td>655</td>\n",
              "      <td>1637</td>\n",
              "      <td>3</td>\n",
              "      <td>888984255</td>\n",
              "      <td>Girls Town (1996)</td>\n",
              "    </tr>\n",
              "    <tr>\n",
              "      <th>100000</th>\n",
              "      <td>655</td>\n",
              "      <td>1630</td>\n",
              "      <td>3</td>\n",
              "      <td>887428735</td>\n",
              "      <td>Silence of the Palace, The (Saimt el Qusur) (1...</td>\n",
              "    </tr>\n",
              "    <tr>\n",
              "      <th>100001</th>\n",
              "      <td>655</td>\n",
              "      <td>1641</td>\n",
              "      <td>3</td>\n",
              "      <td>887427810</td>\n",
              "      <td>Dadetown (1995)</td>\n",
              "    </tr>\n",
              "  </tbody>\n",
              "</table>\n",
              "<p>100002 rows × 5 columns</p>\n",
              "</div>"
            ],
            "text/plain": [
              "        user_id  ...                                              title\n",
              "0             0  ...                    Empire Strikes Back, The (1980)\n",
              "1           213  ...                    Empire Strikes Back, The (1980)\n",
              "2            92  ...                    Empire Strikes Back, The (1980)\n",
              "3            77  ...                    Empire Strikes Back, The (1980)\n",
              "4           194  ...                    Empire Strikes Back, The (1980)\n",
              "...         ...  ...                                                ...\n",
              "99997       840  ...                                  Mamma Roma (1962)\n",
              "99998       655  ...                             Eighth Day, The (1996)\n",
              "99999       655  ...                                  Girls Town (1996)\n",
              "100000      655  ...  Silence of the Palace, The (Saimt el Qusur) (1...\n",
              "100001      655  ...                                    Dadetown (1995)\n",
              "\n",
              "[100002 rows x 5 columns]"
            ]
          },
          "metadata": {
            "tags": []
          },
          "execution_count": 17
        }
      ]
    },
    {
      "cell_type": "code",
      "metadata": {
        "id": "ZiFKqJFJ_sKm",
        "outputId": "ef08a94a-6b1f-4d31-9801-76939b6ab3d9",
        "colab": {
          "base_uri": "https://localhost:8080/",
          "height": 194
        }
      },
      "source": [
        "df.sort_values('item_id').head()"
      ],
      "execution_count": 18,
      "outputs": [
        {
          "output_type": "execute_result",
          "data": {
            "text/html": [
              "<div>\n",
              "<style scoped>\n",
              "    .dataframe tbody tr th:only-of-type {\n",
              "        vertical-align: middle;\n",
              "    }\n",
              "\n",
              "    .dataframe tbody tr th {\n",
              "        vertical-align: top;\n",
              "    }\n",
              "\n",
              "    .dataframe thead th {\n",
              "        text-align: right;\n",
              "    }\n",
              "</style>\n",
              "<table border=\"1\" class=\"dataframe\">\n",
              "  <thead>\n",
              "    <tr style=\"text-align: right;\">\n",
              "      <th></th>\n",
              "      <th>user_id</th>\n",
              "      <th>item_id</th>\n",
              "      <th>rating</th>\n",
              "      <th>timestamp</th>\n",
              "      <th>title</th>\n",
              "    </tr>\n",
              "  </thead>\n",
              "  <tbody>\n",
              "    <tr>\n",
              "      <th>3937</th>\n",
              "      <td>308</td>\n",
              "      <td>1</td>\n",
              "      <td>4</td>\n",
              "      <td>887736532</td>\n",
              "      <td>Toy Story (1995)</td>\n",
              "    </tr>\n",
              "    <tr>\n",
              "      <th>4247</th>\n",
              "      <td>893</td>\n",
              "      <td>1</td>\n",
              "      <td>5</td>\n",
              "      <td>874827725</td>\n",
              "      <td>Toy Story (1995)</td>\n",
              "    </tr>\n",
              "    <tr>\n",
              "      <th>4246</th>\n",
              "      <td>336</td>\n",
              "      <td>1</td>\n",
              "      <td>3</td>\n",
              "      <td>877759342</td>\n",
              "      <td>Toy Story (1995)</td>\n",
              "    </tr>\n",
              "    <tr>\n",
              "      <th>4245</th>\n",
              "      <td>303</td>\n",
              "      <td>1</td>\n",
              "      <td>5</td>\n",
              "      <td>879466966</td>\n",
              "      <td>Toy Story (1995)</td>\n",
              "    </tr>\n",
              "    <tr>\n",
              "      <th>4244</th>\n",
              "      <td>886</td>\n",
              "      <td>1</td>\n",
              "      <td>4</td>\n",
              "      <td>876031433</td>\n",
              "      <td>Toy Story (1995)</td>\n",
              "    </tr>\n",
              "  </tbody>\n",
              "</table>\n",
              "</div>"
            ],
            "text/plain": [
              "      user_id  item_id  rating  timestamp             title\n",
              "3937      308        1       4  887736532  Toy Story (1995)\n",
              "4247      893        1       5  874827725  Toy Story (1995)\n",
              "4246      336        1       3  877759342  Toy Story (1995)\n",
              "4245      303        1       5  879466966  Toy Story (1995)\n",
              "4244      886        1       4  876031433  Toy Story (1995)"
            ]
          },
          "metadata": {
            "tags": []
          },
          "execution_count": 18
        }
      ]
    },
    {
      "cell_type": "code",
      "metadata": {
        "id": "qoLNJPYlJ3rL",
        "outputId": "03339777-7cd8-42f1-a7c8-e663a5a10e69",
        "colab": {
          "base_uri": "https://localhost:8080/"
        }
      },
      "source": [
        "df.isnull().any()"
      ],
      "execution_count": 19,
      "outputs": [
        {
          "output_type": "execute_result",
          "data": {
            "text/plain": [
              "user_id      False\n",
              "item_id      False\n",
              "rating       False\n",
              "timestamp    False\n",
              "title        False\n",
              "dtype: bool"
            ]
          },
          "metadata": {
            "tags": []
          },
          "execution_count": 19
        }
      ]
    },
    {
      "cell_type": "code",
      "metadata": {
        "id": "S1lu16oyBREr",
        "outputId": "2bcc3c8b-5b91-4899-e42d-dd155069baf1",
        "colab": {
          "base_uri": "https://localhost:8080/"
        }
      },
      "source": [
        "asso = df.groupby('user_id')['item_id'].apply(list)\n",
        "asso"
      ],
      "execution_count": 20,
      "outputs": [
        {
          "output_type": "execute_result",
          "data": {
            "text/plain": [
              "user_id\n",
              "0                                             [172, 133]\n",
              "1      [172, 133, 242, 51, 265, 86, 257, 222, 40, 29,...\n",
              "2      [242, 302, 257, 274, 1, 277, 304, 100, 288, 23...\n",
              "3      [302, 346, 327, 332, 322, 181, 288, 338, 294, ...\n",
              "4      [327, 288, 294, 328, 264, 258, 360, 11, 357, 3...\n",
              "                             ...                        \n",
              "939    [257, 222, 274, 118, 546, 15, 237, 275, 471, 7...\n",
              "940    [172, 302, 474, 95, 98, 193, 194, 1137, 4, 100...\n",
              "941    [257, 222, 1, 181, 919, 15, 294, 117, 273, 298...\n",
              "942    [172, 265, 95, 234, 193, 304, 322, 423, 427, 4...\n",
              "943    [172, 51, 785, 274, 546, 234, 98, 193, 194, 79...\n",
              "Name: item_id, Length: 944, dtype: object"
            ]
          },
          "metadata": {
            "tags": []
          },
          "execution_count": 20
        }
      ]
    },
    {
      "cell_type": "code",
      "metadata": {
        "id": "N2jrzDChBuug",
        "outputId": "54907d5f-f5c5-44f3-a66c-c2d763adccbc",
        "colab": {
          "base_uri": "https://localhost:8080/"
        }
      },
      "source": [
        "!pip install apyori"
      ],
      "execution_count": 21,
      "outputs": [
        {
          "output_type": "stream",
          "text": [
            "Requirement already satisfied: apyori in /usr/local/lib/python3.6/dist-packages (1.1.2)\n"
          ],
          "name": "stdout"
        }
      ]
    },
    {
      "cell_type": "code",
      "metadata": {
        "id": "O4GeY-anCQQY"
      },
      "source": [
        "from apyori import apriori"
      ],
      "execution_count": 22,
      "outputs": []
    },
    {
      "cell_type": "code",
      "metadata": {
        "id": "lhdSFS4kCXCP",
        "outputId": "f07dda79-cf92-42b5-824a-2462d047cd72",
        "colab": {
          "base_uri": "https://localhost:8080/"
        }
      },
      "source": [
        "list(apriori(asso,min_support=0.3,min_confidence=0.8))"
      ],
      "execution_count": 24,
      "outputs": [
        {
          "output_type": "execute_result",
          "data": {
            "text/plain": [
              "[RelationRecord(items=frozenset({1, 50}), support=0.4036016949152542, ordered_statistics=[OrderedStatistic(items_base=frozenset({1}), items_add=frozenset({50}), confidence=0.8429203539823008, lift=1.3648658904962128)]),\n",
              " RelationRecord(items=frozenset({50, 7}), support=0.3432203389830508, ordered_statistics=[OrderedStatistic(items_base=frozenset({7}), items_add=frozenset({50}), confidence=0.8265306122448979, lift=1.3383274407533168)]),\n",
              " RelationRecord(items=frozenset({100, 7}), support=0.3389830508474576, ordered_statistics=[OrderedStatistic(items_base=frozenset({7}), items_add=frozenset({100}), confidence=0.8163265306122448, lift=1.5169532379881083)]),\n",
              " RelationRecord(items=frozenset({56, 50}), support=0.3495762711864407, ordered_statistics=[OrderedStatistic(items_base=frozenset({56}), items_add=frozenset({50}), confidence=0.8375634517766498, lift=1.356191935638349)]),\n",
              " RelationRecord(items=frozenset({50, 69}), support=0.3008474576271186, ordered_statistics=[OrderedStatistic(items_base=frozenset({69}), items_add=frozenset({50}), confidence=0.8847352024922118, lift=1.4325729522343877)]),\n",
              " RelationRecord(items=frozenset({50, 79}), support=0.3146186440677966, ordered_statistics=[OrderedStatistic(items_base=frozenset({79}), items_add=frozenset({50}), confidence=0.8839285714285714, lift=1.431266846361186)]),\n",
              " RelationRecord(items=frozenset({50, 98}), support=0.3548728813559322, ordered_statistics=[OrderedStatistic(items_base=frozenset({98}), items_add=frozenset({50}), confidence=0.8589743589743589, lift=1.3908607116154286)]),\n",
              " RelationRecord(items=frozenset({50, 117}), support=0.3305084745762712, ordered_statistics=[OrderedStatistic(items_base=frozenset({117}), items_add=frozenset({50}), confidence=0.8253968253968255, lift=1.3364916006425442)]),\n",
              " RelationRecord(items=frozenset({121, 50}), support=0.3834745762711864, ordered_statistics=[OrderedStatistic(items_base=frozenset({121}), items_add=frozenset({50}), confidence=0.8438228438228438, lift=1.366327211953284)]),\n",
              " RelationRecord(items=frozenset({50, 127}), support=0.3781779661016949, ordered_statistics=[OrderedStatistic(items_base=frozenset({127}), items_add=frozenset({50}), confidence=0.864406779661017, lift=1.3996569468267583)]),\n",
              " RelationRecord(items=frozenset({50, 172}), support=0.3654661016949153, ordered_statistics=[OrderedStatistic(items_base=frozenset({172}), items_add=frozenset({50}), confidence=0.9375, lift=1.5180102915951974)]),\n",
              " RelationRecord(items=frozenset({50, 173}), support=0.3008474576271186, ordered_statistics=[OrderedStatistic(items_base=frozenset({173}), items_add=frozenset({50}), confidence=0.8765432098765432, lift=1.419308387861847)]),\n",
              " RelationRecord(items=frozenset({50, 174}), support=0.4025423728813559, ordered_statistics=[OrderedStatistic(items_base=frozenset({174}), items_add=frozenset({50}), confidence=0.9047619047619048, lift=1.4650004083966348)]),\n",
              " RelationRecord(items=frozenset({50, 181}), support=0.5084745762711864, ordered_statistics=[OrderedStatistic(items_base=frozenset({50}), items_add=frozenset({181}), confidence=0.823327615780446, lift=1.5329808072914026), OrderedStatistic(items_base=frozenset({181}), items_add=frozenset({50}), confidence=0.9467455621301776, lift=1.5329808072914026)]),\n",
              " RelationRecord(items=frozenset({50, 204}), support=0.3273305084745763, ordered_statistics=[OrderedStatistic(items_base=frozenset({204}), items_add=frozenset({50}), confidence=0.8828571428571429, lift=1.4295319774565058)]),\n",
              " RelationRecord(items=frozenset({210, 50}), support=0.3220338983050847, ordered_statistics=[OrderedStatistic(items_base=frozenset({210}), items_add=frozenset({50}), confidence=0.9184290030211479, lift=1.4871303239313272)]),\n",
              " RelationRecord(items=frozenset({50, 222}), support=0.3347457627118644, ordered_statistics=[OrderedStatistic(items_base=frozenset({222}), items_add=frozenset({50}), confidence=0.8657534246575341, lift=1.4018374491881858)]),\n",
              " RelationRecord(items=frozenset({50, 405}), support=0.3072033898305085, ordered_statistics=[OrderedStatistic(items_base=frozenset({405}), items_add=frozenset({50}), confidence=0.8430232558139535, lift=1.3650325102716505)]),\n",
              " RelationRecord(items=frozenset({174, 79}), support=0.3029661016949153, ordered_statistics=[OrderedStatistic(items_base=frozenset({79}), items_add=frozenset({174}), confidence=0.8511904761904763, lift=1.913151927437642)]),\n",
              " RelationRecord(items=frozenset({121, 405}), support=0.3326271186440678, ordered_statistics=[OrderedStatistic(items_base=frozenset({405}), items_add=frozenset({121}), confidence=0.9127906976744187, lift=2.0085650783325204)]),\n",
              " RelationRecord(items=frozenset({172, 174}), support=0.3463983050847458, ordered_statistics=[OrderedStatistic(items_base=frozenset({172}), items_add=frozenset({174}), confidence=0.8885869565217391, lift=1.9972049689440994)]),\n",
              " RelationRecord(items=frozenset({172, 181}), support=0.3358050847457627, ordered_statistics=[OrderedStatistic(items_base=frozenset({172}), items_add=frozenset({181}), confidence=0.8614130434782609, lift=1.6038933196123832)]),\n",
              " RelationRecord(items=frozenset({181, 174}), support=0.3622881355932203, ordered_statistics=[OrderedStatistic(items_base=frozenset({174}), items_add=frozenset({181}), confidence=0.8142857142857143, lift=1.51614539306847)]),\n",
              " RelationRecord(items=frozenset({204, 174}), support=0.3156779661016949, ordered_statistics=[OrderedStatistic(items_base=frozenset({204}), items_add=frozenset({174}), confidence=0.8514285714285714, lift=1.913687074829932)]),\n",
              " RelationRecord(items=frozenset({210, 174}), support=0.3061440677966102, ordered_statistics=[OrderedStatistic(items_base=frozenset({210}), items_add=frozenset({174}), confidence=0.8731117824773414, lift=1.9624226729966914)]),\n",
              " RelationRecord(items=frozenset({204, 181}), support=0.3029661016949153, ordered_statistics=[OrderedStatistic(items_base=frozenset({204}), items_add=frozenset({181}), confidence=0.8171428571428572, lift=1.5214652014652017)]),\n",
              " RelationRecord(items=frozenset({181, 222}), support=0.3156779661016949, ordered_statistics=[OrderedStatistic(items_base=frozenset({222}), items_add=frozenset({181}), confidence=0.8164383561643835, lift=1.5201534678879254)]),\n",
              " RelationRecord(items=frozenset({1, 50, 100}), support=0.3008474576271186, ordered_statistics=[OrderedStatistic(items_base=frozenset({1, 100}), items_add=frozenset({50}), confidence=0.8738461538461537, lift=1.4149412851299643)]),\n",
              " RelationRecord(items=frozenset({1, 50, 181}), support=0.3527542372881356, ordered_statistics=[OrderedStatistic(items_base=frozenset({1, 50}), items_add=frozenset({181}), confidence=0.8740157480314961, lift=1.6273587103387226), OrderedStatistic(items_base=frozenset({1, 181}), items_add=frozenset({50}), confidence=0.9794117647058824, lift=1.5858742811018063)]),\n",
              " RelationRecord(items=frozenset({50, 181, 7}), support=0.3050847457627119, ordered_statistics=[OrderedStatistic(items_base=frozenset({50, 7}), items_add=frozenset({181}), confidence=0.8888888888888891, lift=1.6550515012053477), OrderedStatistic(items_base=frozenset({181, 7}), items_add=frozenset({50}), confidence=0.976271186440678, lift=1.5807890222984564)]),\n",
              " RelationRecord(items=frozenset({56, 50, 174}), support=0.3061440677966102, ordered_statistics=[OrderedStatistic(items_base=frozenset({56, 50}), items_add=frozenset({174}), confidence=0.8757575757575757, lift=1.9683694083694083), OrderedStatistic(items_base=frozenset({56, 174}), items_add=frozenset({50}), confidence=0.9203821656050956, lift=1.490292906228491)]),\n",
              " RelationRecord(items=frozenset({56, 50, 181}), support=0.3019067796610169, ordered_statistics=[OrderedStatistic(items_base=frozenset({56, 50}), items_add=frozenset({181}), confidence=0.8636363636363635, lift=1.6080329926483772), OrderedStatistic(items_base=frozenset({56, 181}), items_add=frozenset({50}), confidence=0.9861591695501729, lift=1.596799753096678)]),\n",
              " RelationRecord(items=frozenset({50, 174, 98}), support=0.3082627118644068, ordered_statistics=[OrderedStatistic(items_base=frozenset({50, 98}), items_add=frozenset({174}), confidence=0.8686567164179105, lift=1.9524093816631134), OrderedStatistic(items_base=frozenset({98, 174}), items_add=frozenset({50}), confidence=0.9356913183279743, lift=1.5150816543766856)]),\n",
              " RelationRecord(items=frozenset({50, 181, 98}), support=0.3061440677966102, ordered_statistics=[OrderedStatistic(items_base=frozenset({50, 98}), items_add=frozenset({181}), confidence=0.8626865671641791, lift=1.6062645353116078), OrderedStatistic(items_base=frozenset({98, 181}), items_add=frozenset({50}), confidence=0.9763513513513514, lift=1.5809188262018452)]),\n",
              " RelationRecord(items=frozenset({50, 100, 181}), support=0.3495762711864407, ordered_statistics=[OrderedStatistic(items_base=frozenset({50, 100}), items_add=frozenset({181}), confidence=0.8375634517766498, lift=1.5594869792448867), OrderedStatistic(items_base=frozenset({100, 181}), items_add=frozenset({50}), confidence=0.953757225433526, lift=1.5443341694841315)]),\n",
              " RelationRecord(items=frozenset({121, 50, 181}), support=0.3463983050847458, ordered_statistics=[OrderedStatistic(items_base=frozenset({121, 50}), items_add=frozenset({181}), confidence=0.9033149171270719, lift=1.6819117983588874), OrderedStatistic(items_base=frozenset({121, 181}), items_add=frozenset({50}), confidence=0.9646017699115045, lift=1.5618937749510469)]),\n",
              " RelationRecord(items=frozenset({50, 181, 127}), support=0.3188559322033898, ordered_statistics=[OrderedStatistic(items_base=frozenset({50, 127}), items_add=frozenset({181}), confidence=0.8431372549019608, lift=1.5698650268786016), OrderedStatistic(items_base=frozenset({181, 127}), items_add=frozenset({50}), confidence=0.9709677419354837, lift=1.5722016267360148)]),\n",
              " RelationRecord(items=frozenset({50, 172, 174}), support=0.3347457627118644, ordered_statistics=[OrderedStatistic(items_base=frozenset({172}), items_add=frozenset({50, 174}), confidence=0.858695652173913, lift=2.1331807780320364), OrderedStatistic(items_base=frozenset({50, 172}), items_add=frozenset({174}), confidence=0.9159420289855071, lift=2.0586887508626637), OrderedStatistic(items_base=frozenset({50, 174}), items_add=frozenset({172}), confidence=0.8315789473684211, lift=2.1331807780320364), OrderedStatistic(items_base=frozenset({172, 174}), items_add=frozenset({50}), confidence=0.966360856269113, lift=1.5647421068920115)]),\n",
              " RelationRecord(items=frozenset({50, 172, 181}), support=0.3336864406779661, ordered_statistics=[OrderedStatistic(items_base=frozenset({172}), items_add=frozenset({50, 181}), confidence=0.8559782608695652, lift=1.6834239130434783), OrderedStatistic(items_base=frozenset({50, 172}), items_add=frozenset({181}), confidence=0.9130434782608695, lift=1.7000257267815797), OrderedStatistic(items_base=frozenset({172, 181}), items_add=frozenset({50}), confidence=0.9936908517350158, lift=1.6089951355709349)]),\n",
              " RelationRecord(items=frozenset({50, 181, 174}), support=0.3569915254237288, ordered_statistics=[OrderedStatistic(items_base=frozenset({174}), items_add=frozenset({50, 181}), confidence=0.8023809523809524, lift=1.578015873015873), OrderedStatistic(items_base=frozenset({50, 174}), items_add=frozenset({181}), confidence=0.8868421052631579, lift=1.6512405273538877), OrderedStatistic(items_base=frozenset({181, 174}), items_add=frozenset({50}), confidence=0.9853801169590644, lift=1.5955383025889482)]),\n",
              " RelationRecord(items=frozenset({50, 181, 222}), support=0.3061440677966102, ordered_statistics=[OrderedStatistic(items_base=frozenset({50, 222}), items_add=frozenset({181}), confidence=0.9145569620253166, lift=1.7028437320550274), OrderedStatistic(items_base=frozenset({181, 222}), items_add=frozenset({50}), confidence=0.9697986577181209, lift=1.5703086327374034)]),\n",
              " RelationRecord(items=frozenset({50, 258, 181}), support=0.3019067796610169, ordered_statistics=[OrderedStatistic(items_base=frozenset({50, 258}), items_add=frozenset({181}), confidence=0.8532934131736526, lift=1.5887751124968996), OrderedStatistic(items_base=frozenset({258, 181}), items_add=frozenset({50}), confidence=0.9563758389261744, lift=1.548574257197785)]),\n",
              " RelationRecord(items=frozenset({172, 181, 174}), support=0.3125, ordered_statistics=[OrderedStatistic(items_base=frozenset({172}), items_add=frozenset({181, 174}), confidence=0.8016304347826086, lift=2.212687515891177), OrderedStatistic(items_base=frozenset({172, 174}), items_add=frozenset({181}), confidence=0.9021406727828746, lift=1.6797254341361612), OrderedStatistic(items_base=frozenset({172, 181}), items_add=frozenset({174}), confidence=0.9305993690851735, lift=2.091632867658104), OrderedStatistic(items_base=frozenset({181, 174}), items_add=frozenset({172}), confidence=0.8625730994152048, lift=2.212687515891177)]),\n",
              " RelationRecord(items=frozenset({50, 172, 181, 174}), support=0.3114406779661017, ordered_statistics=[OrderedStatistic(items_base=frozenset({50, 172}), items_add=frozenset({181, 174}), confidence=0.8521739130434782, lift=2.352199338927028), OrderedStatistic(items_base=frozenset({172, 174}), items_add=frozenset({50, 181}), confidence=0.8990825688073394, lift=1.7681957186544341), OrderedStatistic(items_base=frozenset({172, 181}), items_add=frozenset({50, 174}), confidence=0.9274447949526814, lift=2.30396812219824), OrderedStatistic(items_base=frozenset({181, 174}), items_add=frozenset({50, 172}), confidence=0.8596491228070176, lift=2.3521993389270275), OrderedStatistic(items_base=frozenset({50, 172, 174}), items_add=frozenset({181}), confidence=0.9303797468354431, lift=1.7323046962774327), OrderedStatistic(items_base=frozenset({50, 172, 181}), items_add=frozenset({174}), confidence=0.9333333333333333, lift=2.097777777777778), OrderedStatistic(items_base=frozenset({50, 181, 174}), items_add=frozenset({172}), confidence=0.8724035608308606, lift=2.237904786479164), OrderedStatistic(items_base=frozenset({172, 181, 174}), items_add=frozenset({50}), confidence=0.9966101694915255, lift=1.6137221269296742)])]"
            ]
          },
          "metadata": {
            "tags": []
          },
          "execution_count": 24
        }
      ]
    },
    {
      "cell_type": "code",
      "metadata": {
        "id": "SMf0BOcSCw4l"
      },
      "source": [
        ""
      ],
      "execution_count": null,
      "outputs": []
    }
  ]
}