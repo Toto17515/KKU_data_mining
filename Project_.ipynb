{
  "nbformat": 4,
  "nbformat_minor": 0,
  "metadata": {
    "colab": {
      "name": "Project .ipynb",
      "provenance": [],
      "authorship_tag": "ABX9TyNrAuSouP5ioqTMcPErNAHs",
      "include_colab_link": true
    },
    "kernelspec": {
      "name": "python3",
      "display_name": "Python 3"
    }
  },
  "cells": [
    {
      "cell_type": "markdown",
      "metadata": {
        "id": "view-in-github",
        "colab_type": "text"
      },
      "source": [
        "<a href=\"https://colab.research.google.com/github/tanpharamut/KKU_data_mining/blob/master/Project_.ipynb\" target=\"_parent\"><img src=\"https://colab.research.google.com/assets/colab-badge.svg\" alt=\"Open In Colab\"/></a>"
      ]
    },
    {
      "cell_type": "code",
      "metadata": {
        "id": "6IV452ZQ8wgL"
      },
      "source": [
        "import numpy as np\n",
        "import pandas as pd"
      ],
      "execution_count": 2,
      "outputs": []
    },
    {
      "cell_type": "code",
      "metadata": {
        "id": "jZA6_dyv9fgq",
        "outputId": "bac5af5a-db59-4f22-877a-a9bb8040c867",
        "colab": {
          "base_uri": "https://localhost:8080/"
        }
      },
      "source": [
        "from google.colab import drive\n",
        "drive.mount('/content/drive')"
      ],
      "execution_count": 9,
      "outputs": [
        {
          "output_type": "stream",
          "text": [
            "Mounted at /content/drive\n"
          ],
          "name": "stdout"
        }
      ]
    },
    {
      "cell_type": "code",
      "metadata": {
        "id": "Aff59k8t9j6a"
      },
      "source": [
        "path = '/content/drive/My Drive/DWDM_material'"
      ],
      "execution_count": 10,
      "outputs": []
    },
    {
      "cell_type": "code",
      "metadata": {
        "id": "h-G2e4Po91sY"
      },
      "source": [
        "import os"
      ],
      "execution_count": 11,
      "outputs": []
    },
    {
      "cell_type": "code",
      "metadata": {
        "id": "EVyuqIP798h5"
      },
      "source": [
        "RM = os.path.join(path,'Recommendation System.csv')"
      ],
      "execution_count": 12,
      "outputs": []
    },
    {
      "cell_type": "code",
      "metadata": {
        "id": "t9K6uUXV-gB3"
      },
      "source": [
        "RM_Table = pd.read_csv(RM)"
      ],
      "execution_count": 13,
      "outputs": []
    },
    {
      "cell_type": "code",
      "metadata": {
        "id": "RhXNAeSs-qqd",
        "outputId": "6f68d339-a6ab-4b41-9a53-ac82cf120f2a",
        "colab": {
          "base_uri": "https://localhost:8080/",
          "height": 399
        }
      },
      "source": [
        "RM_Table "
      ],
      "execution_count": 14,
      "outputs": [
        {
          "output_type": "execute_result",
          "data": {
            "text/html": [
              "<div>\n",
              "<style scoped>\n",
              "    .dataframe tbody tr th:only-of-type {\n",
              "        vertical-align: middle;\n",
              "    }\n",
              "\n",
              "    .dataframe tbody tr th {\n",
              "        vertical-align: top;\n",
              "    }\n",
              "\n",
              "    .dataframe thead th {\n",
              "        text-align: right;\n",
              "    }\n",
              "</style>\n",
              "<table border=\"1\" class=\"dataframe\">\n",
              "  <thead>\n",
              "    <tr style=\"text-align: right;\">\n",
              "      <th></th>\n",
              "      <th>0</th>\n",
              "      <th>50</th>\n",
              "      <th>5</th>\n",
              "      <th>881250949</th>\n",
              "    </tr>\n",
              "  </thead>\n",
              "  <tbody>\n",
              "    <tr>\n",
              "      <th>0</th>\n",
              "      <td>0</td>\n",
              "      <td>172</td>\n",
              "      <td>5</td>\n",
              "      <td>881250949</td>\n",
              "    </tr>\n",
              "    <tr>\n",
              "      <th>1</th>\n",
              "      <td>0</td>\n",
              "      <td>133</td>\n",
              "      <td>1</td>\n",
              "      <td>881250949</td>\n",
              "    </tr>\n",
              "    <tr>\n",
              "      <th>2</th>\n",
              "      <td>196</td>\n",
              "      <td>242</td>\n",
              "      <td>3</td>\n",
              "      <td>881250949</td>\n",
              "    </tr>\n",
              "    <tr>\n",
              "      <th>3</th>\n",
              "      <td>186</td>\n",
              "      <td>302</td>\n",
              "      <td>3</td>\n",
              "      <td>891717742</td>\n",
              "    </tr>\n",
              "    <tr>\n",
              "      <th>4</th>\n",
              "      <td>22</td>\n",
              "      <td>377</td>\n",
              "      <td>1</td>\n",
              "      <td>878887116</td>\n",
              "    </tr>\n",
              "    <tr>\n",
              "      <th>...</th>\n",
              "      <td>...</td>\n",
              "      <td>...</td>\n",
              "      <td>...</td>\n",
              "      <td>...</td>\n",
              "    </tr>\n",
              "    <tr>\n",
              "      <th>99997</th>\n",
              "      <td>880</td>\n",
              "      <td>476</td>\n",
              "      <td>3</td>\n",
              "      <td>880175444</td>\n",
              "    </tr>\n",
              "    <tr>\n",
              "      <th>99998</th>\n",
              "      <td>716</td>\n",
              "      <td>204</td>\n",
              "      <td>5</td>\n",
              "      <td>879795543</td>\n",
              "    </tr>\n",
              "    <tr>\n",
              "      <th>99999</th>\n",
              "      <td>276</td>\n",
              "      <td>1090</td>\n",
              "      <td>1</td>\n",
              "      <td>874795795</td>\n",
              "    </tr>\n",
              "    <tr>\n",
              "      <th>100000</th>\n",
              "      <td>13</td>\n",
              "      <td>225</td>\n",
              "      <td>2</td>\n",
              "      <td>882399156</td>\n",
              "    </tr>\n",
              "    <tr>\n",
              "      <th>100001</th>\n",
              "      <td>12</td>\n",
              "      <td>203</td>\n",
              "      <td>3</td>\n",
              "      <td>879959583</td>\n",
              "    </tr>\n",
              "  </tbody>\n",
              "</table>\n",
              "<p>100002 rows × 4 columns</p>\n",
              "</div>"
            ],
            "text/plain": [
              "          0    50  5  881250949\n",
              "0         0   172  5  881250949\n",
              "1         0   133  1  881250949\n",
              "2       196   242  3  881250949\n",
              "3       186   302  3  891717742\n",
              "4        22   377  1  878887116\n",
              "...     ...   ... ..        ...\n",
              "99997   880   476  3  880175444\n",
              "99998   716   204  5  879795543\n",
              "99999   276  1090  1  874795795\n",
              "100000   13   225  2  882399156\n",
              "100001   12   203  3  879959583\n",
              "\n",
              "[100002 rows x 4 columns]"
            ]
          },
          "metadata": {
            "tags": []
          },
          "execution_count": 14
        }
      ]
    },
    {
      "cell_type": "code",
      "metadata": {
        "id": "u91nxOCB-r1v"
      },
      "source": [
        "RM_Table .columns = (['user_id','item_id',\"rating\",\"timestamp\"])"
      ],
      "execution_count": 15,
      "outputs": []
    },
    {
      "cell_type": "code",
      "metadata": {
        "id": "NUnVo5Hf-yL2",
        "outputId": "c5fb31f2-ef68-4c4f-e7c5-7a56de6e2478",
        "colab": {
          "base_uri": "https://localhost:8080/",
          "height": 194
        }
      },
      "source": [
        "RM_Table.head()"
      ],
      "execution_count": 16,
      "outputs": [
        {
          "output_type": "execute_result",
          "data": {
            "text/html": [
              "<div>\n",
              "<style scoped>\n",
              "    .dataframe tbody tr th:only-of-type {\n",
              "        vertical-align: middle;\n",
              "    }\n",
              "\n",
              "    .dataframe tbody tr th {\n",
              "        vertical-align: top;\n",
              "    }\n",
              "\n",
              "    .dataframe thead th {\n",
              "        text-align: right;\n",
              "    }\n",
              "</style>\n",
              "<table border=\"1\" class=\"dataframe\">\n",
              "  <thead>\n",
              "    <tr style=\"text-align: right;\">\n",
              "      <th></th>\n",
              "      <th>user_id</th>\n",
              "      <th>item_id</th>\n",
              "      <th>rating</th>\n",
              "      <th>timestamp</th>\n",
              "    </tr>\n",
              "  </thead>\n",
              "  <tbody>\n",
              "    <tr>\n",
              "      <th>0</th>\n",
              "      <td>0</td>\n",
              "      <td>172</td>\n",
              "      <td>5</td>\n",
              "      <td>881250949</td>\n",
              "    </tr>\n",
              "    <tr>\n",
              "      <th>1</th>\n",
              "      <td>0</td>\n",
              "      <td>133</td>\n",
              "      <td>1</td>\n",
              "      <td>881250949</td>\n",
              "    </tr>\n",
              "    <tr>\n",
              "      <th>2</th>\n",
              "      <td>196</td>\n",
              "      <td>242</td>\n",
              "      <td>3</td>\n",
              "      <td>881250949</td>\n",
              "    </tr>\n",
              "    <tr>\n",
              "      <th>3</th>\n",
              "      <td>186</td>\n",
              "      <td>302</td>\n",
              "      <td>3</td>\n",
              "      <td>891717742</td>\n",
              "    </tr>\n",
              "    <tr>\n",
              "      <th>4</th>\n",
              "      <td>22</td>\n",
              "      <td>377</td>\n",
              "      <td>1</td>\n",
              "      <td>878887116</td>\n",
              "    </tr>\n",
              "  </tbody>\n",
              "</table>\n",
              "</div>"
            ],
            "text/plain": [
              "   user_id  item_id  rating  timestamp\n",
              "0        0      172       5  881250949\n",
              "1        0      133       1  881250949\n",
              "2      196      242       3  881250949\n",
              "3      186      302       3  891717742\n",
              "4       22      377       1  878887116"
            ]
          },
          "metadata": {
            "tags": []
          },
          "execution_count": 16
        }
      ]
    },
    {
      "cell_type": "code",
      "metadata": {
        "id": "mKvL9pzf-2yP"
      },
      "source": [
        "Movie = os.path.join(path,'Movie_Id_Titles')"
      ],
      "execution_count": 17,
      "outputs": []
    },
    {
      "cell_type": "code",
      "metadata": {
        "id": "8LZ3g3YN_Cbq",
        "outputId": "cbe910a5-5781-4fff-acc6-cb9ccd065c9c",
        "colab": {
          "base_uri": "https://localhost:8080/",
          "height": 399
        }
      },
      "source": [
        "Movie_Table = pd.read_csv(Movie)\n",
        "Movie_Table"
      ],
      "execution_count": 18,
      "outputs": [
        {
          "output_type": "execute_result",
          "data": {
            "text/html": [
              "<div>\n",
              "<style scoped>\n",
              "    .dataframe tbody tr th:only-of-type {\n",
              "        vertical-align: middle;\n",
              "    }\n",
              "\n",
              "    .dataframe tbody tr th {\n",
              "        vertical-align: top;\n",
              "    }\n",
              "\n",
              "    .dataframe thead th {\n",
              "        text-align: right;\n",
              "    }\n",
              "</style>\n",
              "<table border=\"1\" class=\"dataframe\">\n",
              "  <thead>\n",
              "    <tr style=\"text-align: right;\">\n",
              "      <th></th>\n",
              "      <th>item_id</th>\n",
              "      <th>title</th>\n",
              "    </tr>\n",
              "  </thead>\n",
              "  <tbody>\n",
              "    <tr>\n",
              "      <th>0</th>\n",
              "      <td>1</td>\n",
              "      <td>Toy Story (1995)</td>\n",
              "    </tr>\n",
              "    <tr>\n",
              "      <th>1</th>\n",
              "      <td>2</td>\n",
              "      <td>GoldenEye (1995)</td>\n",
              "    </tr>\n",
              "    <tr>\n",
              "      <th>2</th>\n",
              "      <td>3</td>\n",
              "      <td>Four Rooms (1995)</td>\n",
              "    </tr>\n",
              "    <tr>\n",
              "      <th>3</th>\n",
              "      <td>4</td>\n",
              "      <td>Get Shorty (1995)</td>\n",
              "    </tr>\n",
              "    <tr>\n",
              "      <th>4</th>\n",
              "      <td>5</td>\n",
              "      <td>Copycat (1995)</td>\n",
              "    </tr>\n",
              "    <tr>\n",
              "      <th>...</th>\n",
              "      <td>...</td>\n",
              "      <td>...</td>\n",
              "    </tr>\n",
              "    <tr>\n",
              "      <th>1677</th>\n",
              "      <td>1678</td>\n",
              "      <td>Mat' i syn (1997)</td>\n",
              "    </tr>\n",
              "    <tr>\n",
              "      <th>1678</th>\n",
              "      <td>1679</td>\n",
              "      <td>B. Monkey (1998)</td>\n",
              "    </tr>\n",
              "    <tr>\n",
              "      <th>1679</th>\n",
              "      <td>1680</td>\n",
              "      <td>Sliding Doors (1998)</td>\n",
              "    </tr>\n",
              "    <tr>\n",
              "      <th>1680</th>\n",
              "      <td>1681</td>\n",
              "      <td>You So Crazy (1994)</td>\n",
              "    </tr>\n",
              "    <tr>\n",
              "      <th>1681</th>\n",
              "      <td>1682</td>\n",
              "      <td>Scream of Stone (Schrei aus Stein) (1991)</td>\n",
              "    </tr>\n",
              "  </tbody>\n",
              "</table>\n",
              "<p>1682 rows × 2 columns</p>\n",
              "</div>"
            ],
            "text/plain": [
              "      item_id                                      title\n",
              "0           1                           Toy Story (1995)\n",
              "1           2                           GoldenEye (1995)\n",
              "2           3                          Four Rooms (1995)\n",
              "3           4                          Get Shorty (1995)\n",
              "4           5                             Copycat (1995)\n",
              "...       ...                                        ...\n",
              "1677     1678                          Mat' i syn (1997)\n",
              "1678     1679                           B. Monkey (1998)\n",
              "1679     1680                       Sliding Doors (1998)\n",
              "1680     1681                        You So Crazy (1994)\n",
              "1681     1682  Scream of Stone (Schrei aus Stein) (1991)\n",
              "\n",
              "[1682 rows x 2 columns]"
            ]
          },
          "metadata": {
            "tags": []
          },
          "execution_count": 18
        }
      ]
    },
    {
      "cell_type": "code",
      "metadata": {
        "id": "vP862ht8_Mkp",
        "outputId": "f651ac73-0167-4bd5-8c07-86bd9db998a9",
        "colab": {
          "base_uri": "https://localhost:8080/",
          "height": 399
        }
      },
      "source": [
        "df = pd.merge(RM_Table,Movie_Table,on='item_id')\n",
        "df"
      ],
      "execution_count": 19,
      "outputs": [
        {
          "output_type": "execute_result",
          "data": {
            "text/html": [
              "<div>\n",
              "<style scoped>\n",
              "    .dataframe tbody tr th:only-of-type {\n",
              "        vertical-align: middle;\n",
              "    }\n",
              "\n",
              "    .dataframe tbody tr th {\n",
              "        vertical-align: top;\n",
              "    }\n",
              "\n",
              "    .dataframe thead th {\n",
              "        text-align: right;\n",
              "    }\n",
              "</style>\n",
              "<table border=\"1\" class=\"dataframe\">\n",
              "  <thead>\n",
              "    <tr style=\"text-align: right;\">\n",
              "      <th></th>\n",
              "      <th>user_id</th>\n",
              "      <th>item_id</th>\n",
              "      <th>rating</th>\n",
              "      <th>timestamp</th>\n",
              "      <th>title</th>\n",
              "    </tr>\n",
              "  </thead>\n",
              "  <tbody>\n",
              "    <tr>\n",
              "      <th>0</th>\n",
              "      <td>0</td>\n",
              "      <td>172</td>\n",
              "      <td>5</td>\n",
              "      <td>881250949</td>\n",
              "      <td>Empire Strikes Back, The (1980)</td>\n",
              "    </tr>\n",
              "    <tr>\n",
              "      <th>1</th>\n",
              "      <td>213</td>\n",
              "      <td>172</td>\n",
              "      <td>5</td>\n",
              "      <td>878955442</td>\n",
              "      <td>Empire Strikes Back, The (1980)</td>\n",
              "    </tr>\n",
              "    <tr>\n",
              "      <th>2</th>\n",
              "      <td>92</td>\n",
              "      <td>172</td>\n",
              "      <td>4</td>\n",
              "      <td>875653271</td>\n",
              "      <td>Empire Strikes Back, The (1980)</td>\n",
              "    </tr>\n",
              "    <tr>\n",
              "      <th>3</th>\n",
              "      <td>77</td>\n",
              "      <td>172</td>\n",
              "      <td>3</td>\n",
              "      <td>884752562</td>\n",
              "      <td>Empire Strikes Back, The (1980)</td>\n",
              "    </tr>\n",
              "    <tr>\n",
              "      <th>4</th>\n",
              "      <td>194</td>\n",
              "      <td>172</td>\n",
              "      <td>3</td>\n",
              "      <td>879521474</td>\n",
              "      <td>Empire Strikes Back, The (1980)</td>\n",
              "    </tr>\n",
              "    <tr>\n",
              "      <th>...</th>\n",
              "      <td>...</td>\n",
              "      <td>...</td>\n",
              "      <td>...</td>\n",
              "      <td>...</td>\n",
              "      <td>...</td>\n",
              "    </tr>\n",
              "    <tr>\n",
              "      <th>99997</th>\n",
              "      <td>840</td>\n",
              "      <td>1674</td>\n",
              "      <td>4</td>\n",
              "      <td>891211682</td>\n",
              "      <td>Mamma Roma (1962)</td>\n",
              "    </tr>\n",
              "    <tr>\n",
              "      <th>99998</th>\n",
              "      <td>655</td>\n",
              "      <td>1640</td>\n",
              "      <td>3</td>\n",
              "      <td>888474646</td>\n",
              "      <td>Eighth Day, The (1996)</td>\n",
              "    </tr>\n",
              "    <tr>\n",
              "      <th>99999</th>\n",
              "      <td>655</td>\n",
              "      <td>1637</td>\n",
              "      <td>3</td>\n",
              "      <td>888984255</td>\n",
              "      <td>Girls Town (1996)</td>\n",
              "    </tr>\n",
              "    <tr>\n",
              "      <th>100000</th>\n",
              "      <td>655</td>\n",
              "      <td>1630</td>\n",
              "      <td>3</td>\n",
              "      <td>887428735</td>\n",
              "      <td>Silence of the Palace, The (Saimt el Qusur) (1...</td>\n",
              "    </tr>\n",
              "    <tr>\n",
              "      <th>100001</th>\n",
              "      <td>655</td>\n",
              "      <td>1641</td>\n",
              "      <td>3</td>\n",
              "      <td>887427810</td>\n",
              "      <td>Dadetown (1995)</td>\n",
              "    </tr>\n",
              "  </tbody>\n",
              "</table>\n",
              "<p>100002 rows × 5 columns</p>\n",
              "</div>"
            ],
            "text/plain": [
              "        user_id  ...                                              title\n",
              "0             0  ...                    Empire Strikes Back, The (1980)\n",
              "1           213  ...                    Empire Strikes Back, The (1980)\n",
              "2            92  ...                    Empire Strikes Back, The (1980)\n",
              "3            77  ...                    Empire Strikes Back, The (1980)\n",
              "4           194  ...                    Empire Strikes Back, The (1980)\n",
              "...         ...  ...                                                ...\n",
              "99997       840  ...                                  Mamma Roma (1962)\n",
              "99998       655  ...                             Eighth Day, The (1996)\n",
              "99999       655  ...                                  Girls Town (1996)\n",
              "100000      655  ...  Silence of the Palace, The (Saimt el Qusur) (1...\n",
              "100001      655  ...                                    Dadetown (1995)\n",
              "\n",
              "[100002 rows x 5 columns]"
            ]
          },
          "metadata": {
            "tags": []
          },
          "execution_count": 19
        }
      ]
    },
    {
      "cell_type": "code",
      "metadata": {
        "id": "ZiFKqJFJ_sKm",
        "outputId": "31db9eb1-af58-40ac-c56a-ac34981a891f",
        "colab": {
          "base_uri": "https://localhost:8080/",
          "height": 194
        }
      },
      "source": [
        "df.sort_values('item_id').head()"
      ],
      "execution_count": 20,
      "outputs": [
        {
          "output_type": "execute_result",
          "data": {
            "text/html": [
              "<div>\n",
              "<style scoped>\n",
              "    .dataframe tbody tr th:only-of-type {\n",
              "        vertical-align: middle;\n",
              "    }\n",
              "\n",
              "    .dataframe tbody tr th {\n",
              "        vertical-align: top;\n",
              "    }\n",
              "\n",
              "    .dataframe thead th {\n",
              "        text-align: right;\n",
              "    }\n",
              "</style>\n",
              "<table border=\"1\" class=\"dataframe\">\n",
              "  <thead>\n",
              "    <tr style=\"text-align: right;\">\n",
              "      <th></th>\n",
              "      <th>user_id</th>\n",
              "      <th>item_id</th>\n",
              "      <th>rating</th>\n",
              "      <th>timestamp</th>\n",
              "      <th>title</th>\n",
              "    </tr>\n",
              "  </thead>\n",
              "  <tbody>\n",
              "    <tr>\n",
              "      <th>3937</th>\n",
              "      <td>308</td>\n",
              "      <td>1</td>\n",
              "      <td>4</td>\n",
              "      <td>887736532</td>\n",
              "      <td>Toy Story (1995)</td>\n",
              "    </tr>\n",
              "    <tr>\n",
              "      <th>4247</th>\n",
              "      <td>893</td>\n",
              "      <td>1</td>\n",
              "      <td>5</td>\n",
              "      <td>874827725</td>\n",
              "      <td>Toy Story (1995)</td>\n",
              "    </tr>\n",
              "    <tr>\n",
              "      <th>4246</th>\n",
              "      <td>336</td>\n",
              "      <td>1</td>\n",
              "      <td>3</td>\n",
              "      <td>877759342</td>\n",
              "      <td>Toy Story (1995)</td>\n",
              "    </tr>\n",
              "    <tr>\n",
              "      <th>4245</th>\n",
              "      <td>303</td>\n",
              "      <td>1</td>\n",
              "      <td>5</td>\n",
              "      <td>879466966</td>\n",
              "      <td>Toy Story (1995)</td>\n",
              "    </tr>\n",
              "    <tr>\n",
              "      <th>4244</th>\n",
              "      <td>886</td>\n",
              "      <td>1</td>\n",
              "      <td>4</td>\n",
              "      <td>876031433</td>\n",
              "      <td>Toy Story (1995)</td>\n",
              "    </tr>\n",
              "  </tbody>\n",
              "</table>\n",
              "</div>"
            ],
            "text/plain": [
              "      user_id  item_id  rating  timestamp             title\n",
              "3937      308        1       4  887736532  Toy Story (1995)\n",
              "4247      893        1       5  874827725  Toy Story (1995)\n",
              "4246      336        1       3  877759342  Toy Story (1995)\n",
              "4245      303        1       5  879466966  Toy Story (1995)\n",
              "4244      886        1       4  876031433  Toy Story (1995)"
            ]
          },
          "metadata": {
            "tags": []
          },
          "execution_count": 20
        }
      ]
    },
    {
      "cell_type": "code",
      "metadata": {
        "id": "qoLNJPYlJ3rL",
        "outputId": "11e5e8f9-5519-44aa-eb28-19ec4e285048",
        "colab": {
          "base_uri": "https://localhost:8080/"
        }
      },
      "source": [
        "df.isnull().any()"
      ],
      "execution_count": 21,
      "outputs": [
        {
          "output_type": "execute_result",
          "data": {
            "text/plain": [
              "user_id      False\n",
              "item_id      False\n",
              "rating       False\n",
              "timestamp    False\n",
              "title        False\n",
              "dtype: bool"
            ]
          },
          "metadata": {
            "tags": []
          },
          "execution_count": 21
        }
      ]
    },
    {
      "cell_type": "code",
      "metadata": {
        "id": "S1lu16oyBREr",
        "outputId": "4de416df-cae8-40f2-828e-c16618c03515",
        "colab": {
          "base_uri": "https://localhost:8080/"
        }
      },
      "source": [
        "asso = df.groupby('user_id')['title'].apply(list)\n",
        "asso"
      ],
      "execution_count": 27,
      "outputs": [
        {
          "output_type": "execute_result",
          "data": {
            "text/plain": [
              "user_id\n",
              "0      [Empire Strikes Back, The (1980), Gone with th...\n",
              "1      [Empire Strikes Back, The (1980), Gone with th...\n",
              "2      [Kolya (1996), L.A. Confidential (1997), Men i...\n",
              "3      [L.A. Confidential (1997), Jackie Brown (1997)...\n",
              "4      [Cop Land (1997), Scream (1996), Liar Liar (19...\n",
              "                             ...                        \n",
              "939    [Men in Black (1997), Star Trek: First Contact...\n",
              "940    [Empire Strikes Back, The (1980), L.A. Confide...\n",
              "941    [Men in Black (1997), Star Trek: First Contact...\n",
              "942    [Empire Strikes Back, The (1980), Hunt for Red...\n",
              "943    [Empire Strikes Back, The (1980), Legends of t...\n",
              "Name: title, Length: 944, dtype: object"
            ]
          },
          "metadata": {
            "tags": []
          },
          "execution_count": 27
        }
      ]
    },
    {
      "cell_type": "code",
      "metadata": {
        "id": "N2jrzDChBuug",
        "outputId": "f71f98c5-cb5f-402f-a50b-81f04b8ce2e9",
        "colab": {
          "base_uri": "https://localhost:8080/"
        }
      },
      "source": [
        "!pip install apyori"
      ],
      "execution_count": 28,
      "outputs": [
        {
          "output_type": "stream",
          "text": [
            "Requirement already satisfied: apyori in /usr/local/lib/python3.6/dist-packages (1.1.2)\n"
          ],
          "name": "stdout"
        }
      ]
    },
    {
      "cell_type": "code",
      "metadata": {
        "id": "O4GeY-anCQQY"
      },
      "source": [
        "from apyori import apriori"
      ],
      "execution_count": 29,
      "outputs": []
    },
    {
      "cell_type": "code",
      "metadata": {
        "id": "lhdSFS4kCXCP",
        "outputId": "567e50ac-426b-473b-de1f-0b0b680226a3",
        "colab": {
          "base_uri": "https://localhost:8080/"
        }
      },
      "source": [
        "list(apriori(asso,min_support=0.3,min_confidence=0.99))"
      ],
      "execution_count": 30,
      "outputs": [
        {
          "output_type": "execute_result",
          "data": {
            "text/plain": [
              "[RelationRecord(items=frozenset({'Star Wars (1977)', 'Return of the Jedi (1983)', 'Empire Strikes Back, The (1980)'}), support=0.3336864406779661, ordered_statistics=[OrderedStatistic(items_base=frozenset({'Return of the Jedi (1983)', 'Empire Strikes Back, The (1980)'}), items_add=frozenset({'Star Wars (1977)'}), confidence=0.9936908517350158, lift=1.6089951355709349)]),\n",
              " RelationRecord(items=frozenset({'Star Wars (1977)', 'Return of the Jedi (1983)', 'Empire Strikes Back, The (1980)', 'Raiders of the Lost Ark (1981)'}), support=0.3114406779661017, ordered_statistics=[OrderedStatistic(items_base=frozenset({'Return of the Jedi (1983)', 'Empire Strikes Back, The (1980)', 'Raiders of the Lost Ark (1981)'}), items_add=frozenset({'Star Wars (1977)'}), confidence=0.9966101694915255, lift=1.6137221269296742)])]"
            ]
          },
          "metadata": {
            "tags": []
          },
          "execution_count": 30
        }
      ]
    },
    {
      "cell_type": "code",
      "metadata": {
        "id": "SMf0BOcSCw4l"
      },
      "source": [
        ""
      ],
      "execution_count": null,
      "outputs": []
    }
  ]
}